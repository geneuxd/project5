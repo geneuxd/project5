{
 "cells": [
  {
   "cell_type": "code",
   "execution_count": 1,
   "id": "82773e88-e9fc-46a9-9dfb-9d259d031d2a",
   "metadata": {},
   "outputs": [],
   "source": [
    "#Geneu Kimm and Steven Ren\n",
    "!hdfs dfs -D dfs.replication=1 -cp -f data/*.csv hdfs://nn:9000/"
   ]
  },
  {
   "cell_type": "code",
   "execution_count": 2,
   "id": "fe8e50cc-f129-4032-bd4a-26ad4140bc5d",
   "metadata": {},
   "outputs": [
    {
     "name": "stderr",
     "output_type": "stream",
     "text": [
      "Setting default log level to \"WARN\".\n",
      "To adjust logging level use sc.setLogLevel(newLevel). For SparkR, use setLogLevel(newLevel).\n",
      "23/11/06 22:41:17 WARN NativeCodeLoader: Unable to load native-hadoop library for your platform... using builtin-java classes where applicable\n"
     ]
    }
   ],
   "source": [
    "from pyspark.sql import SparkSession\n",
    "spark = (SparkSession.builder.appName(\"cs544\")\n",
    "         .master(\"spark://boss:7077\")\n",
    "         .config(\"spark.executor.memory\", \"512M\")\n",
    "         .config(\"spark.sql.warehouse.dir\", \"hdfs://nn:9000/user/hive/warehouse\")\n",
    "         .enableHiveSupport()\n",
    "         .getOrCreate())"
   ]
  },
  {
   "cell_type": "code",
   "execution_count": 3,
   "id": "651c0126-71c8-4e61-9f0d-8c31a3a8aefb",
   "metadata": {},
   "outputs": [
    {
     "name": "stderr",
     "output_type": "stream",
     "text": [
      "                                                                                \r"
     ]
    },
    {
     "data": {
      "text/plain": [
       "525"
      ]
     },
     "execution_count": 3,
     "metadata": {},
     "output_type": "execute_result"
    }
   ],
   "source": [
    "#q1\n",
    "banks_df = spark.read.csv(\"hdfs://nn:9000/arid2017_to_lei_xref_csv.csv\", header=True, inferSchema=True)\n",
    "banks_rdd = banks_df.rdd\n",
    "filtered_rdd = banks_rdd.filter(lambda row: \"first\" in row[\"respondent_name\"].lower())\n",
    "count = filtered_rdd.count()\n",
    "count"
   ]
  },
  {
   "cell_type": "code",
   "execution_count": 4,
   "id": "152c0043-c521-412c-ab83-bcdf5ecb36ac",
   "metadata": {},
   "outputs": [
    {
     "name": "stderr",
     "output_type": "stream",
     "text": [
      "                                                                                \r"
     ]
    },
    {
     "data": {
      "text/plain": [
       "525"
      ]
     },
     "execution_count": 4,
     "metadata": {},
     "output_type": "execute_result"
    }
   ],
   "source": [
    "#q2\n",
    "banks_panda = banks_df.toPandas()\n",
    "count = 0\n",
    "for name in banks_panda['respondent_name']:\n",
    "    name = name.lower()\n",
    "    if \"first\" in name:\n",
    "        count +=1\n",
    "count"
   ]
  },
  {
   "cell_type": "code",
   "execution_count": 5,
   "id": "e052f681-7f52-4239-982d-576099eeb40d",
   "metadata": {},
   "outputs": [
    {
     "name": "stderr",
     "output_type": "stream",
     "text": [
      "23/11/06 22:42:05 WARN HiveConf: HiveConf of name hive.stats.jdbc.timeout does not exist\n",
      "23/11/06 22:42:05 WARN HiveConf: HiveConf of name hive.stats.retries.wait does not exist\n",
      "23/11/06 22:42:10 WARN ObjectStore: Version information not found in metastore. hive.metastore.schema.verification is not enabled so recording the schema version 2.3.0\n",
      "23/11/06 22:42:10 WARN ObjectStore: setMetaStoreSchemaVersion called but recording version is disabled: version = 2.3.0, comment = Set by MetaStore UNKNOWN@172.23.0.4\n",
      "23/11/06 22:42:11 WARN ObjectStore: Failed to get database global_temp, returning NoSuchObjectException\n",
      "23/11/06 22:42:17 WARN SessionState: METASTORE_FILTER_HOOK will be ignored, since hive.security.authorization.manager is set to instance of HiveAuthorizerFactory.\n",
      "23/11/06 22:42:17 WARN HiveConf: HiveConf of name hive.internal.ss.authz.settings.applied.marker does not exist\n",
      "23/11/06 22:42:17 WARN HiveConf: HiveConf of name hive.stats.jdbc.timeout does not exist\n",
      "23/11/06 22:42:17 WARN HiveConf: HiveConf of name hive.stats.retries.wait does not exist\n",
      "                                                                                \r"
     ]
    },
    {
     "data": {
      "text/plain": [
       "525"
      ]
     },
     "execution_count": 5,
     "metadata": {},
     "output_type": "execute_result"
    }
   ],
   "source": [
    "#q3\n",
    "# example for lower and find first source: https://stackoverflow.com/questions/14908142/sql-like-search-string-starts-with\n",
    "banks_df.write.saveAsTable(\"banks\",mode=\"overwrite\")\n",
    "spark.sql(\"\"\"\n",
    "SELECT *\n",
    "FROM banks\n",
    "WHERE LOWER(respondent_name) LIKE \"%first%\" \n",
    "\"\"\").count()"
   ]
  },
  {
   "cell_type": "code",
   "execution_count": 11,
   "id": "327880e7-8d21-4c6b-9f29-80d408abb4ef",
   "metadata": {},
   "outputs": [
    {
     "name": "stderr",
     "output_type": "stream",
     "text": [
      "                                                                                \r"
     ]
    }
   ],
   "source": [
    "loans_df = spark.read.csv(\"hdfs://nn:9000/hdma-wi-2021.csv\", header=True, inferSchema=True)\n",
    "loans_df.write.bucketBy(8, \"county_code\").saveAsTable(\"loans\", mode=\"overwrite\")\n",
    "\n",
    "df = spark.read.csv(f\"hdfs://nn:9000/ethnicity.csv\", header=True, inferSchema=True)\n",
    "df.createOrReplaceTempView(\"ethnicity\")\n",
    "df = spark.read.csv(f\"hdfs://nn:9000/race.csv\", header=True, inferSchema=True)\n",
    "df.createOrReplaceTempView(\"race\")\n",
    "df = spark.read.csv(f\"hdfs://nn:9000/sex.csv\", header=True, inferSchema=True)\n",
    "df.createOrReplaceTempView(\"sex\")\n",
    "df = spark.read.csv(f\"hdfs://nn:9000/states.csv\", header=True, inferSchema=True)\n",
    "df.createOrReplaceTempView(\"states\")\n",
    "df = spark.read.csv(f\"hdfs://nn:9000/counties.csv\", header=True, inferSchema=True)\n",
    "df.createOrReplaceTempView(\"counties\")\n",
    "df = spark.read.csv(f\"hdfs://nn:9000/tracts.csv\", header=True, inferSchema=True)\n",
    "df.createOrReplaceTempView(\"tracts\")\n",
    "df = spark.read.csv(f\"hdfs://nn:9000/action_taken.csv\", header=True, inferSchema=True)\n",
    "df.createOrReplaceTempView(\"action_taken\")\n",
    "df = spark.read.csv(f\"hdfs://nn:9000/denial_reason.csv\", header=True, inferSchema=True)\n",
    "df.createOrReplaceTempView(\"denial_reason\")\n",
    "df = spark.read.csv(f\"hdfs://nn:9000/loan_type.csv\", header=True, inferSchema=True)\n",
    "df.createOrReplaceTempView(\"loan_type\")\n",
    "df = spark.read.csv(f\"hdfs://nn:9000/loan_purpose.csv\", header=True, inferSchema=True)\n",
    "df.createOrReplaceTempView(\"loan_purpose\")\n",
    "df = spark.read.csv(f\"hdfs://nn:9000/preapproval.csv\", header=True, inferSchema=True)\n",
    "df.createOrReplaceTempView(\"preapproval\")\n",
    "df = spark.read.csv(f\"hdfs://nn:9000/property_type.csv\", header=True, inferSchema=True)\n",
    "df.createOrReplaceTempView(\"property_type\")"
   ]
  },
  {
   "cell_type": "code",
   "execution_count": 7,
   "id": "e1fde266-ee51-4200-a193-b45a5a148364",
   "metadata": {},
   "outputs": [
    {
     "name": "stdout",
     "output_type": "stream",
     "text": [
      "+---------+-------------+-----------+\n",
      "|namespace|    tableName|isTemporary|\n",
      "+---------+-------------+-----------+\n",
      "|  default|        banks|      false|\n",
      "|  default|        loans|      false|\n",
      "|         | action_taken|       true|\n",
      "|         |     counties|       true|\n",
      "|         |denial_reason|       true|\n",
      "|         |    ethnicity|       true|\n",
      "|         | loan_purpose|       true|\n",
      "|         |    loan_type|       true|\n",
      "|         |  preapproval|       true|\n",
      "|         |property_type|       true|\n",
      "|         |         race|       true|\n",
      "|         |          sex|       true|\n",
      "|         |       states|       true|\n",
      "|         |       tracts|       true|\n",
      "+---------+-------------+-----------+\n",
      "\n"
     ]
    }
   ],
   "source": [
    "spark.sql(\"SHOW TABLES\").show()"
   ]
  },
  {
   "cell_type": "code",
   "execution_count": 8,
   "id": "c51ff2d9-6c06-4c0d-b98f-8b89f562e591",
   "metadata": {},
   "outputs": [
    {
     "data": {
      "text/plain": [
       "{'banks': False,\n",
       " 'loans': False,\n",
       " 'action_taken': True,\n",
       " 'counties': True,\n",
       " 'denial_reason': True,\n",
       " 'ethnicity': True,\n",
       " 'loan_purpose': True,\n",
       " 'loan_type': True,\n",
       " 'preapproval': True,\n",
       " 'property_type': True,\n",
       " 'race': True,\n",
       " 'sex': True,\n",
       " 'states': True,\n",
       " 'tracts': True}"
      ]
     },
     "execution_count": 8,
     "metadata": {},
     "output_type": "execute_result"
    }
   ],
   "source": [
    "#q4\n",
    "tables = spark.sql(\"SHOW TABLES\").toPandas()\n",
    "dict_q4 = dict(zip(tables[\"tableName\"], tables[\"isTemporary\"]))\n",
    "\n",
    "dict_q4"
   ]
  },
  {
   "cell_type": "code",
   "execution_count": 9,
   "id": "c687f1ee-81f1-41af-8ccb-7eb99c65a6f0",
   "metadata": {},
   "outputs": [
    {
     "name": "stderr",
     "output_type": "stream",
     "text": [
      "                                                                                \r"
     ]
    },
    {
     "data": {
      "text/plain": [
       "19739"
      ]
     },
     "execution_count": 9,
     "metadata": {},
     "output_type": "execute_result"
    }
   ],
   "source": [
    "#q5\n",
    "df_q5 = spark.sql(\"\"\"\n",
    "    SELECT *\n",
    "    FROM banks\n",
    "    INNER JOIN loans\n",
    "    ON banks.lei_2020 = loans.lei\n",
    "    WHERE banks.respondent_name = 'University of Wisconsin Credit Union'\n",
    "\"\"\")\n",
    "\n",
    "df_q5.count()"
   ]
  },
  {
   "cell_type": "code",
   "execution_count": 10,
   "id": "b2f7a588-c227-431f-8b00-4541943f6b57",
   "metadata": {
    "scrolled": true
   },
   "outputs": [
    {
     "name": "stdout",
     "output_type": "stream",
     "text": [
      "== Physical Plan ==\n",
      "AdaptiveSparkPlan (7)\n",
      "+- BroadcastHashJoin Inner BuildLeft (6)\n",
      "   :- BroadcastExchange (3)\n",
      "   :  +- Filter (2)\n",
      "   :     +- Scan parquet spark_catalog.default.banks (1)\n",
      "   +- Filter (5)\n",
      "      +- Scan parquet spark_catalog.default.loans (4)\n",
      "\n",
      "\n",
      "(1) Scan parquet spark_catalog.default.banks\n",
      "Output [5]: [respondent_name#52, arid_2017#53, lei_2018#54, lei_2019#55, lei_2020#56]\n",
      "Batched: true\n",
      "Location: InMemoryFileIndex [hdfs://nn:9000/user/hive/warehouse/banks]\n",
      "PushedFilters: [IsNotNull(respondent_name), EqualTo(respondent_name,University of Wisconsin Credit Union), IsNotNull(lei_2020)]\n",
      "ReadSchema: struct<respondent_name:string,arid_2017:string,lei_2018:string,lei_2019:string,lei_2020:string>\n",
      "\n",
      "(2) Filter\n",
      "Input [5]: [respondent_name#52, arid_2017#53, lei_2018#54, lei_2019#55, lei_2020#56]\n",
      "Condition : ((isnotnull(respondent_name#52) AND (respondent_name#52 = University of Wisconsin Credit Union)) AND isnotnull(lei_2020#56))\n",
      "\n",
      "(3) BroadcastExchange\n",
      "Input [5]: [respondent_name#52, arid_2017#53, lei_2018#54, lei_2019#55, lei_2020#56]\n",
      "Arguments: HashedRelationBroadcastMode(List(input[4, string, false]),false), [plan_id=571]\n",
      "\n",
      "(4) Scan parquet spark_catalog.default.loans\n",
      "Output [99]: [activity_year#1013, lei#1014, derived_msa-md#1015, state_code#1016, county_code#1017, census_tract#1018, conforming_loan_limit#1019, derived_loan_product_type#1020, derived_dwelling_category#1021, derived_ethnicity#1022, derived_race#1023, derived_sex#1024, action_taken#1025, purchaser_type#1026, preapproval#1027, loan_type#1028, loan_purpose#1029, lien_status#1030, reverse_mortgage#1031, open-end_line_of_credit#1032, business_or_commercial_purpose#1033, loan_amount#1034, loan_to_value_ratio#1035, interest_rate#1036, rate_spread#1037, hoepa_status#1038, total_loan_costs#1039, total_points_and_fees#1040, origination_charges#1041, discount_points#1042, lender_credits#1043, loan_term#1044, prepayment_penalty_term#1045, intro_rate_period#1046, negative_amortization#1047, interest_only_payment#1048, balloon_payment#1049, other_nonamortizing_features#1050, property_value#1051, construction_method#1052, occupancy_type#1053, manufactured_home_secured_property_type#1054, manufactured_home_land_property_interest#1055, total_units#1056, multifamily_affordable_units#1057, income#1058, debt_to_income_ratio#1059, applicant_credit_score_type#1060, co-applicant_credit_score_type#1061, applicant_ethnicity-1#1062, applicant_ethnicity-2#1063, applicant_ethnicity-3#1064, applicant_ethnicity-4#1065, applicant_ethnicity-5#1066, co-applicant_ethnicity-1#1067, co-applicant_ethnicity-2#1068, co-applicant_ethnicity-3#1069, co-applicant_ethnicity-4#1070, co-applicant_ethnicity-5#1071, applicant_ethnicity_observed#1072, co-applicant_ethnicity_observed#1073, applicant_race-1#1074, applicant_race-2#1075, applicant_race-3#1076, applicant_race-4#1077, applicant_race-5#1078, co-applicant_race-1#1079, co-applicant_race-2#1080, co-applicant_race-3#1081, co-applicant_race-4#1082, co-applicant_race-5#1083, applicant_race_observed#1084, co-applicant_race_observed#1085, applicant_sex#1086, co-applicant_sex#1087, applicant_sex_observed#1088, co-applicant_sex_observed#1089, applicant_age#1090, co-applicant_age#1091, applicant_age_above_62#1092, co-applicant_age_above_62#1093, submission_of_application#1094, initially_payable_to_institution#1095, aus-1#1096, aus-2#1097, aus-3#1098, aus-4#1099, aus-5#1100, denial_reason-1#1101, denial_reason-2#1102, denial_reason-3#1103, denial_reason-4#1104, tract_population#1105, tract_minority_population_percent#1106, ffiec_msa_md_median_family_income#1107, tract_to_msa_income_percentage#1108, tract_owner_occupied_units#1109, tract_one_to_four_family_homes#1110, tract_median_age_of_housing_units#1111]\n",
      "Batched: true\n",
      "Bucketed: false (disabled by query planner)\n",
      "Location: InMemoryFileIndex [hdfs://nn:9000/user/hive/warehouse/loans]\n",
      "PushedFilters: [IsNotNull(lei)]\n",
      "ReadSchema: struct<activity_year:int,lei:string,derived_msa-md:int,state_code:string,county_code:string,census_tract:string,conforming_loan_limit:string,derived_loan_product_type:string,derived_dwelling_category:string,derived_ethnicity:string,derived_race:string,derived_sex:string,action_taken:int,purchaser_type:int,preapproval:int,loan_type:int,loan_purpose:int,lien_status:int,reverse_mortgage:int,open-end_line_of_credit:int,business_or_commercial_purpose:int,loan_amount:double,loan_to_value_ratio:string,interest_rate:string,rate_spread:string,hoepa_status:int,total_loan_costs:string,total_points_and_fees:string,origination_charges:string,discount_points:string,lender_credits:string,loan_term:string,prepayment_penalty_term:string,intro_rate_period:string,negative_amortization:int,interest_only_payment:int,balloon_payment:int,other_nonamortizing_features:int,property_value:string,construction_method:int,occupancy_type:int,manufactured_home_secured_property_type:int,manufactured_home_land_property_interest:int,total_units:string,multifamily_affordable_units:string,income:string,debt_to_income_ratio:string,applicant_credit_score_type:int,co-applicant_credit_score_type:int,applicant_ethnicity-1:int,applicant_ethnicity-2:int,applicant_ethnicity-3:int,applicant_ethnicity-4:int,applicant_ethnicity-5:int,co-applicant_ethnicity-1:int,co-applicant_ethnicity-2:int,co-applicant_ethnicity-3:int,co-applicant_ethnicity-4:int,co-applicant_ethnicity-5:string,applicant_ethnicity_observed:int,co-applicant_ethnicity_observed:int,applicant_race-1:int,applicant_race-2:int,applicant_race-3:int,applicant_race-4:int,applicant_race-5:int,co-applicant_race-1:int,co-applicant_race-2:int,co-applicant_race-3:int,co-applicant_race-4:int,co-applicant_race-5:int,applicant_race_observed:int,co-applicant_race_observed:int,applicant_sex:int,co-applicant_sex:int,applicant_sex_observed:int,co-applicant_sex_observed:int,applicant_age:string,co-applicant_age:string,applicant_age_above_62:string,co-applicant_age_above_62:string,submission_of_application:int,initially_payable_to_institution:int,aus-1:int,aus-2:int,aus-3:int,aus-4:int,aus-5:int,denial_reason-1:int,denial_reason-2:int,denial_reason-3:int,denial_reason-4:int,tract_population:int,tract_minority_population_percent:double,ffiec_msa_md_median_family_income:int,tract_to_msa_income_percentage:int,tract_owner_occupied_units:int,tract_one_to_four_family_homes:int,tract_median_age_of_housing_units:int>\n",
      "\n",
      "(5) Filter\n",
      "Input [99]: [activity_year#1013, lei#1014, derived_msa-md#1015, state_code#1016, county_code#1017, census_tract#1018, conforming_loan_limit#1019, derived_loan_product_type#1020, derived_dwelling_category#1021, derived_ethnicity#1022, derived_race#1023, derived_sex#1024, action_taken#1025, purchaser_type#1026, preapproval#1027, loan_type#1028, loan_purpose#1029, lien_status#1030, reverse_mortgage#1031, open-end_line_of_credit#1032, business_or_commercial_purpose#1033, loan_amount#1034, loan_to_value_ratio#1035, interest_rate#1036, rate_spread#1037, hoepa_status#1038, total_loan_costs#1039, total_points_and_fees#1040, origination_charges#1041, discount_points#1042, lender_credits#1043, loan_term#1044, prepayment_penalty_term#1045, intro_rate_period#1046, negative_amortization#1047, interest_only_payment#1048, balloon_payment#1049, other_nonamortizing_features#1050, property_value#1051, construction_method#1052, occupancy_type#1053, manufactured_home_secured_property_type#1054, manufactured_home_land_property_interest#1055, total_units#1056, multifamily_affordable_units#1057, income#1058, debt_to_income_ratio#1059, applicant_credit_score_type#1060, co-applicant_credit_score_type#1061, applicant_ethnicity-1#1062, applicant_ethnicity-2#1063, applicant_ethnicity-3#1064, applicant_ethnicity-4#1065, applicant_ethnicity-5#1066, co-applicant_ethnicity-1#1067, co-applicant_ethnicity-2#1068, co-applicant_ethnicity-3#1069, co-applicant_ethnicity-4#1070, co-applicant_ethnicity-5#1071, applicant_ethnicity_observed#1072, co-applicant_ethnicity_observed#1073, applicant_race-1#1074, applicant_race-2#1075, applicant_race-3#1076, applicant_race-4#1077, applicant_race-5#1078, co-applicant_race-1#1079, co-applicant_race-2#1080, co-applicant_race-3#1081, co-applicant_race-4#1082, co-applicant_race-5#1083, applicant_race_observed#1084, co-applicant_race_observed#1085, applicant_sex#1086, co-applicant_sex#1087, applicant_sex_observed#1088, co-applicant_sex_observed#1089, applicant_age#1090, co-applicant_age#1091, applicant_age_above_62#1092, co-applicant_age_above_62#1093, submission_of_application#1094, initially_payable_to_institution#1095, aus-1#1096, aus-2#1097, aus-3#1098, aus-4#1099, aus-5#1100, denial_reason-1#1101, denial_reason-2#1102, denial_reason-3#1103, denial_reason-4#1104, tract_population#1105, tract_minority_population_percent#1106, ffiec_msa_md_median_family_income#1107, tract_to_msa_income_percentage#1108, tract_owner_occupied_units#1109, tract_one_to_four_family_homes#1110, tract_median_age_of_housing_units#1111]\n",
      "Condition : isnotnull(lei#1014)\n",
      "\n",
      "(6) BroadcastHashJoin\n",
      "Left keys [1]: [lei_2020#56]\n",
      "Right keys [1]: [lei#1014]\n",
      "Join type: Inner\n",
      "Join condition: None\n",
      "\n",
      "(7) AdaptiveSparkPlan\n",
      "Output [104]: [respondent_name#52, arid_2017#53, lei_2018#54, lei_2019#55, lei_2020#56, activity_year#1013, lei#1014, derived_msa-md#1015, state_code#1016, county_code#1017, census_tract#1018, conforming_loan_limit#1019, derived_loan_product_type#1020, derived_dwelling_category#1021, derived_ethnicity#1022, derived_race#1023, derived_sex#1024, action_taken#1025, purchaser_type#1026, preapproval#1027, loan_type#1028, loan_purpose#1029, lien_status#1030, reverse_mortgage#1031, open-end_line_of_credit#1032, business_or_commercial_purpose#1033, loan_amount#1034, loan_to_value_ratio#1035, interest_rate#1036, rate_spread#1037, hoepa_status#1038, total_loan_costs#1039, total_points_and_fees#1040, origination_charges#1041, discount_points#1042, lender_credits#1043, loan_term#1044, prepayment_penalty_term#1045, intro_rate_period#1046, negative_amortization#1047, interest_only_payment#1048, balloon_payment#1049, other_nonamortizing_features#1050, property_value#1051, construction_method#1052, occupancy_type#1053, manufactured_home_secured_property_type#1054, manufactured_home_land_property_interest#1055, total_units#1056, multifamily_affordable_units#1057, income#1058, debt_to_income_ratio#1059, applicant_credit_score_type#1060, co-applicant_credit_score_type#1061, applicant_ethnicity-1#1062, applicant_ethnicity-2#1063, applicant_ethnicity-3#1064, applicant_ethnicity-4#1065, applicant_ethnicity-5#1066, co-applicant_ethnicity-1#1067, co-applicant_ethnicity-2#1068, co-applicant_ethnicity-3#1069, co-applicant_ethnicity-4#1070, co-applicant_ethnicity-5#1071, applicant_ethnicity_observed#1072, co-applicant_ethnicity_observed#1073, applicant_race-1#1074, applicant_race-2#1075, applicant_race-3#1076, applicant_race-4#1077, applicant_race-5#1078, co-applicant_race-1#1079, co-applicant_race-2#1080, co-applicant_race-3#1081, co-applicant_race-4#1082, co-applicant_race-5#1083, applicant_race_observed#1084, co-applicant_race_observed#1085, applicant_sex#1086, co-applicant_sex#1087, applicant_sex_observed#1088, co-applicant_sex_observed#1089, applicant_age#1090, co-applicant_age#1091, applicant_age_above_62#1092, co-applicant_age_above_62#1093, submission_of_application#1094, initially_payable_to_institution#1095, aus-1#1096, aus-2#1097, aus-3#1098, aus-4#1099, aus-5#1100, denial_reason-1#1101, denial_reason-2#1102, denial_reason-3#1103, denial_reason-4#1104, tract_population#1105, tract_minority_population_percent#1106, ffiec_msa_md_median_family_income#1107, tract_to_msa_income_percentage#1108, tract_owner_occupied_units#1109, tract_one_to_four_family_homes#1110, tract_median_age_of_housing_units#1111]\n",
      "Arguments: isFinalPlan=false\n",
      "\n",
      "\n"
     ]
    }
   ],
   "source": [
    "#q6\n",
    "df_q5.explain(\"formatted\")\n",
    "\n",
    "# 1. Which table is sent to every executor via a BroadcastExchange operation?\n",
    "# The 'banks' table is sent to every executor via a BroadcastExchange operation, seen in (3) BroadcastExchange, the inputs are fields from the 'banks' table.\n",
    "\n",
    "# 2. Does the plan involve HashAggregates (depending on how you write the query, it may or may not)? If so, which ones?\n",
    "# The plan does not invilve hashAgreegates, it is not shown."
   ]
  },
  {
   "cell_type": "code",
   "execution_count": 85,
   "id": "412550e6-298a-4f93-9247-029daa97f867",
   "metadata": {},
   "outputs": [
    {
     "name": "stderr",
     "output_type": "stream",
     "text": [
      "                                                                                \r"
     ]
    },
    {
     "data": {
      "text/plain": [
       "{'Milwaukee': 3.1173465727097907,\n",
       " 'Waukesha': 2.8758225602027756,\n",
       " 'Washington': 2.851009389671362,\n",
       " 'Dane': 2.890674955595027,\n",
       " 'Brown': 3.010949119373777,\n",
       " 'Racine': 3.099783715012723,\n",
       " 'Outagamie': 2.979661835748792,\n",
       " 'Winnebago': 3.0284761904761908,\n",
       " 'Ozaukee': 2.8673765432098772,\n",
       " 'Sheboygan': 2.995511111111111}"
      ]
     },
     "execution_count": 85,
     "metadata": {},
     "output_type": "execute_result"
    }
   ],
   "source": [
    "#q7\n",
    "top_counties = spark.sql(\"\"\"\n",
    "    SELECT counties.NAME, AVG(loans.interest_rate) as avg_interest_rate\n",
    "    FROM loans\n",
    "    INNER JOIN banks\n",
    "    ON loans.lei = banks.lei_2020\n",
    "    INNER JOIN counties\n",
    "    ON loans.county_code = counties.STATE*1000 + counties.COUNTY\n",
    "    WHERE banks.respondent_name = 'Wells Fargo Bank, National Association'\n",
    "    GROUP BY counties.NAME\n",
    "    ORDER BY COUNT(*) DESC\n",
    "    LIMIT 10\n",
    "\"\"\")\n",
    "# top_counties.show()\n",
    "\n",
    "top_counties_dict = {row.NAME: row.avg_interest_rate for row in top_counties.collect()}\n",
    "\n",
    "top_counties_dict"
   ]
  },
  {
   "cell_type": "code",
   "execution_count": 100,
   "id": "edead02b-202e-4f1c-b8b1-4fad20c6ea22",
   "metadata": {},
   "outputs": [
    {
     "data": {
      "image/png": "[encoded data removed]",
      "text/plain": [
       "<Figure size 640x480 with 1 Axes>"
      ]
     },
     "metadata": {},
     "output_type": "display_data"
    }
   ],
   "source": [
    "import matplotlib.pyplot as plt\n",
    "\n",
    "plt.bar(top_counties_dict.keys(), top_counties_dict.values())\n",
    "plt.xlabel('name')\n",
    "plt.ylabel('Average Interest Rate')\n",
    "plt.xticks(rotation=90, ha=\"right\")  # rotate x-axis labels\n",
    "\n",
    "plt.show()"
   ]
  },
  {
   "cell_type": "code",
   "execution_count": 107,
   "id": "03a89045-aaa9-4c7f-acef-92fad5b3f8c7",
   "metadata": {},
   "outputs": [
    {
     "name": "stdout",
     "output_type": "stream",
     "text": [
      "== Physical Plan ==\n",
      "AdaptiveSparkPlan (4)\n",
      "+- HashAggregate (3)\n",
      "   +- HashAggregate (2)\n",
      "      +- Scan parquet spark_catalog.default.loans (1)\n",
      "\n",
      "\n",
      "(1) Scan parquet spark_catalog.default.loans\n",
      "Output [2]: [county_code#2128, interest_rate#2147]\n",
      "Batched: true\n",
      "Bucketed: true\n",
      "Location: InMemoryFileIndex [hdfs://nn:9000/user/hive/warehouse/loans]\n",
      "ReadSchema: struct<county_code:string,interest_rate:string>\n",
      "SelectedBucketsCount: 8 out of 8\n",
      "\n",
      "(2) HashAggregate\n",
      "Input [2]: [county_code#2128, interest_rate#2147]\n",
      "Keys [1]: [county_code#2128]\n",
      "Functions [1]: [partial_avg(cast(interest_rate#2147 as double))]\n",
      "Aggregate Attributes [2]: [sum#7215, count#7216L]\n",
      "Results [3]: [county_code#2128, sum#7217, count#7218L]\n",
      "\n",
      "(3) HashAggregate\n",
      "Input [3]: [county_code#2128, sum#7217, count#7218L]\n",
      "Keys [1]: [county_code#2128]\n",
      "Functions [1]: [avg(cast(interest_rate#2147 as double))]\n",
      "Aggregate Attributes [1]: [avg(cast(interest_rate#2147 as double))#7212]\n",
      "Results [2]: [county_code#2128, avg(cast(interest_rate#2147 as double))#7212 AS avg_interest_rate#7211]\n",
      "\n",
      "(4) AdaptiveSparkPlan\n",
      "Output [2]: [county_code#2128, avg_interest_rate#7211]\n",
      "Arguments: isFinalPlan=false\n",
      "\n",
      "\n",
      "== Physical Plan ==\n",
      "AdaptiveSparkPlan (5)\n",
      "+- HashAggregate (4)\n",
      "   +- Exchange (3)\n",
      "      +- HashAggregate (2)\n",
      "         +- Scan parquet spark_catalog.default.loans (1)\n",
      "\n",
      "\n",
      "(1) Scan parquet spark_catalog.default.loans\n",
      "Output [2]: [lei#2125, interest_rate#2147]\n",
      "Batched: true\n",
      "Bucketed: false (bucket column(s) not read)\n",
      "Location: InMemoryFileIndex [hdfs://nn:9000/user/hive/warehouse/loans]\n",
      "ReadSchema: struct<lei:string,interest_rate:string>\n",
      "\n",
      "(2) HashAggregate\n",
      "Input [2]: [lei#2125, interest_rate#2147]\n",
      "Keys [1]: [lei#2125]\n",
      "Functions [1]: [partial_avg(cast(interest_rate#2147 as double))]\n",
      "Aggregate Attributes [2]: [sum#7223, count#7224L]\n",
      "Results [3]: [lei#2125, sum#7225, count#7226L]\n",
      "\n",
      "(3) Exchange\n",
      "Input [3]: [lei#2125, sum#7225, count#7226L]\n",
      "Arguments: hashpartitioning(lei#2125, 200), ENSURE_REQUIREMENTS, [plan_id=18491]\n",
      "\n",
      "(4) HashAggregate\n",
      "Input [3]: [lei#2125, sum#7225, count#7226L]\n",
      "Keys [1]: [lei#2125]\n",
      "Functions [1]: [avg(cast(interest_rate#2147 as double))]\n",
      "Aggregate Attributes [1]: [avg(cast(interest_rate#2147 as double))#7220]\n",
      "Results [2]: [lei#2125, avg(cast(interest_rate#2147 as double))#7220 AS avg_interest_rate#7219]\n",
      "\n",
      "(5) AdaptiveSparkPlan\n",
      "Output [2]: [lei#2125, avg_interest_rate#7219]\n",
      "Arguments: isFinalPlan=false\n",
      "\n",
      "\n"
     ]
    }
   ],
   "source": [
    "#q8\n",
    "example = spark.sql(\"\"\"\n",
    "    SELECT county_code, AVG(interest_rate) as avg_interest_rate\n",
    "    FROM loans\n",
    "    GROUP BY county_code\n",
    "\"\"\")\n",
    "\n",
    "example.explain(\"formatted\")\n",
    "\n",
    "example_lei = spark.sql(\"\"\"\n",
    "    SELECT lei, AVG(interest_rate) as avg_interest_rate\n",
    "    FROM loans\n",
    "    GROUP BY lei\n",
    "\"\"\")\n",
    "\n",
    "example_lei.explain(\"formatted\")\n",
    "\n",
    "# If a network transfer (network I/O) is necessary for one query but not the other, write a comment explaining why. You might want to look back at how you loaded the data to a Hive table earlier.\n",
    "\n",
    "# Response: A network trasnfer (network I/O0 was used for GROUP BY lei query but not for GROUP BY county_code, an exchange operation was used for GROUP BY lei. It means that a shuffle exhange occured and data was moved around."
   ]
  },
  {
   "cell_type": "code",
   "execution_count": 137,
   "id": "7f9cea7c-b52b-4ea6-93d9-5290cb0508c8",
   "metadata": {},
   "outputs": [],
   "source": [
    "from pyspark.sql import SparkSession\n",
    "from pyspark.sql.functions import col, when\n",
    "\n",
    "spark = SparkSession.builder.appName(\"LoanPrediction\").getOrCreate()\n",
    "\n",
    "loans = spark.table(\"loans\")\n",
    "\n",
    "df = loans.select(\n",
    "    col(\"loan_amount\").cast(\"double\"),\n",
    "    col(\"income\").cast(\"double\"),\n",
    "    col(\"interest_rate\").cast(\"double\"),\n",
    "    when(col(\"action_taken\") == 1, 1).otherwise(0).alias(\"approval\")\n",
    ")\n",
    "\n",
    "df = df.na.fill(0.0)\n",
    "\n",
    "train, test = df.randomSplit([0.8, 0.2], seed=41)"
   ]
  },
  {
   "cell_type": "code",
   "execution_count": 139,
   "id": "b1150a75-501a-4fa8-8896-cc8d755a3bed",
   "metadata": {},
   "outputs": [
    {
     "data": {
      "text/plain": [
       "242868"
      ]
     },
     "execution_count": 139,
     "metadata": {},
     "output_type": "execute_result"
    }
   ],
   "source": [
    "#q9\n",
    "train_df = train.toPandas()\n",
    "count = 0\n",
    "for approval in train_df['approval']:\n",
    "    if approval == 1:\n",
    "        count +=1\n",
    "\n",
    "count"
   ]
  },
  {
   "cell_type": "code",
   "execution_count": 140,
   "id": "79d881f4-ad3d-4fdb-90ac-f58dbfde5ee8",
   "metadata": {},
   "outputs": [
    {
     "name": "stderr",
     "output_type": "stream",
     "text": [
      "                                                                                \r"
     ]
    },
    {
     "data": {
      "text/plain": [
       "0.8931644386068411"
      ]
     },
     "execution_count": 140,
     "metadata": {},
     "output_type": "execute_result"
    }
   ],
   "source": [
    "#q10\n",
    "from pyspark.ml.feature import VectorAssembler\n",
    "from pyspark.ml.classification import DecisionTreeClassifier\n",
    "\n",
    "va = VectorAssembler(inputCols=[\"loan_amount\", \"income\", \"interest_rate\"], outputCol=\"features\")\n",
    "train = va.transform(train)\n",
    "test = va.transform(test)\n",
    "\n",
    "dt = DecisionTreeClassifier(labelCol='approval', featuresCol='features', maxDepth=5)\n",
    "\n",
    "model = dt.fit(train)\n",
    "\n",
    "predictions = model.transform(test)\n",
    "\n",
    "correct_predictions = predictions.filter(col(\"approval\") == col(\"prediction\")).count()\n",
    "total_predictions = predictions.count()\n",
    "accuracy = correct_predictions / total_predictions\n",
    "\n",
    "accuracy"
   ]
  }
 ],
 "metadata": {
  "kernelspec": {
   "display_name": "Python 3 (ipykernel)",
   "language": "python",
   "name": "python3"
  },
  "language_info": {
   "codemirror_mode": {
    "name": "ipython",
    "version": 3
   },
   "file_extension": ".py",
   "mimetype": "text/x-python",
   "name": "python",
   "nbconvert_exporter": "python",
   "pygments_lexer": "ipython3",
   "version": "3.10.12"
  }
 },
 "nbformat": 4,
 "nbformat_minor": 5
}
